{
 "cells": [
  {
   "cell_type": "markdown",
   "id": "3e3d2279",
   "metadata": {
    "papermill": {
     "duration": 0.007783,
     "end_time": "2022-10-30T15:43:41.976603",
     "exception": false,
     "start_time": "2022-10-30T15:43:41.968820",
     "status": "completed"
    },
    "tags": []
   },
   "source": [
    "**This notebook is an exercise in the [Intro to Programming](https://www.kaggle.com/learn/intro-to-programming) course.  You can reference the tutorial at [this link](https://www.kaggle.com/alexisbcook/functions).**\n",
    "\n",
    "---\n"
   ]
  },
  {
   "cell_type": "markdown",
   "id": "b0c09449",
   "metadata": {
    "papermill": {
     "duration": 0.005589,
     "end_time": "2022-10-30T15:43:41.988259",
     "exception": false,
     "start_time": "2022-10-30T15:43:41.982670",
     "status": "completed"
    },
    "tags": []
   },
   "source": [
    "In the tutorial, you learned about functions. In this exercise, you'll write some of your own!\n",
    "\n",
    "# Set up the notebook\n",
    "\n",
    "Run the next code cell without changes to set up the notebook."
   ]
  },
  {
   "cell_type": "code",
   "execution_count": 1,
   "id": "4efd1d7d",
   "metadata": {
    "execution": {
     "iopub.execute_input": "2022-10-30T15:43:42.002279Z",
     "iopub.status.busy": "2022-10-30T15:43:42.001621Z",
     "iopub.status.idle": "2022-10-30T15:43:42.057274Z",
     "shell.execute_reply": "2022-10-30T15:43:42.056051Z"
    },
    "papermill": {
     "duration": 0.066612,
     "end_time": "2022-10-30T15:43:42.060781",
     "exception": false,
     "start_time": "2022-10-30T15:43:41.994169",
     "status": "completed"
    },
    "tags": []
   },
   "outputs": [
    {
     "name": "stdout",
     "output_type": "stream",
     "text": [
      "Setup complete.\n"
     ]
    }
   ],
   "source": [
    "# Set up the exercise\n",
    "import math\n",
    "from learntools.core import binder\n",
    "binder.bind(globals())\n",
    "from learntools.intro_to_programming.ex2 import *\n",
    "print('Setup complete.')"
   ]
  },
  {
   "cell_type": "markdown",
   "id": "eb7fdb5f",
   "metadata": {
    "papermill": {
     "duration": 0.005883,
     "end_time": "2022-10-30T15:43:42.072952",
     "exception": false,
     "start_time": "2022-10-30T15:43:42.067069",
     "status": "completed"
    },
    "tags": []
   },
   "source": [
    "# Question 1\n",
    "\n",
    "In the [House Prices - Advanced Regression Techniques competition](https://www.kaggle.com/c/house-prices-advanced-regression-techniques/overview), you need to use information like the number of bedrooms and bathrooms to predict the price of a house.  Inspired by this competition, you'll write your own function to do this.\n",
    "\n",
    "In the next code cell, create a function `get_expected_cost()` that has two arguments:\n",
    "- `beds` - number of bedrooms \n",
    "- `baths` - number of bathrooms\n",
    "\n",
    "It should return the expected cost of a house with that number of bedrooms and bathrooms.  Assume that:\n",
    "- the expected cost for a house with 0 bedrooms and 0 bathrooms is `80000`.  \n",
    "- each bedroom adds `30000` to the expected cost\n",
    "- each bathroom adds `10000` to the expected cost.\n",
    "\n",
    "For instance, \n",
    "- a house with 1 bedroom and 1 bathroom has an expected cost of `120000`, and \n",
    "- a house with 2 bedrooms and 1 bathroom has an expected cost of `150000`."
   ]
  },
  {
   "cell_type": "code",
   "execution_count": 2,
   "id": "0d67fc0a",
   "metadata": {
    "execution": {
     "iopub.execute_input": "2022-10-30T15:43:42.086797Z",
     "iopub.status.busy": "2022-10-30T15:43:42.086351Z",
     "iopub.status.idle": "2022-10-30T15:43:42.097875Z",
     "shell.execute_reply": "2022-10-30T15:43:42.096848Z"
    },
    "papermill": {
     "duration": 0.021226,
     "end_time": "2022-10-30T15:43:42.100203",
     "exception": false,
     "start_time": "2022-10-30T15:43:42.078977",
     "status": "completed"
    },
    "tags": []
   },
   "outputs": [
    {
     "data": {
      "application/javascript": [
       "parent.postMessage({\"jupyterEvent\": \"custom.exercise_interaction\", \"data\": {\"outcomeType\": 1, \"valueTowardsCompletion\": 0.2, \"interactionType\": 1, \"questionType\": 2, \"questionId\": \"1_GetExpectedCost\", \"learnToolsVersion\": \"0.3.4\", \"failureMessage\": \"\", \"exceptionClass\": \"\", \"trace\": \"\"}}, \"*\")"
      ],
      "text/plain": [
       "<IPython.core.display.Javascript object>"
      ]
     },
     "metadata": {},
     "output_type": "display_data"
    },
    {
     "data": {
      "text/markdown": [
       "<span style=\"color:#33cc33\">Correct</span>"
      ],
      "text/plain": [
       "Correct"
      ]
     },
     "metadata": {},
     "output_type": "display_data"
    }
   ],
   "source": [
    "# TODO: Complete the function\n",
    "def get_expected_cost(beds, baths):\n",
    "    value = 80000+30000*beds+10000*baths\n",
    "    return value\n",
    "\n",
    "# Check your answer \n",
    "q1.check()"
   ]
  },
  {
   "cell_type": "code",
   "execution_count": 3,
   "id": "74dd2dbc",
   "metadata": {
    "execution": {
     "iopub.execute_input": "2022-10-30T15:43:42.114429Z",
     "iopub.status.busy": "2022-10-30T15:43:42.114007Z",
     "iopub.status.idle": "2022-10-30T15:43:42.126260Z",
     "shell.execute_reply": "2022-10-30T15:43:42.125214Z"
    },
    "papermill": {
     "duration": 0.02198,
     "end_time": "2022-10-30T15:43:42.128466",
     "exception": false,
     "start_time": "2022-10-30T15:43:42.106486",
     "status": "completed"
    },
    "tags": []
   },
   "outputs": [
    {
     "data": {
      "application/javascript": [
       "parent.postMessage({\"jupyterEvent\": \"custom.exercise_interaction\", \"data\": {\"interactionType\": 2, \"questionType\": 2, \"questionId\": \"1_GetExpectedCost\", \"learnToolsVersion\": \"0.3.4\", \"valueTowardsCompletion\": 0.0, \"failureMessage\": \"\", \"exceptionClass\": \"\", \"trace\": \"\", \"outcomeType\": 4}}, \"*\")"
      ],
      "text/plain": [
       "<IPython.core.display.Javascript object>"
      ]
     },
     "metadata": {},
     "output_type": "display_data"
    },
    {
     "data": {
      "text/markdown": [
       "<span style=\"color:#3366cc\">Hint:</span> The value should be the base cost (`80000`), plus the total cost of the bedrooms (`30000 * beds`), plus the total cost of the bathrooms (`10000 * baths`)."
      ],
      "text/plain": [
       "Hint: The value should be the base cost (`80000`), plus the total cost of the bedrooms (`30000 * beds`), plus the total cost of the bathrooms (`10000 * baths`)."
      ]
     },
     "metadata": {},
     "output_type": "display_data"
    },
    {
     "data": {
      "application/javascript": [
       "parent.postMessage({\"jupyterEvent\": \"custom.exercise_interaction\", \"data\": {\"interactionType\": 3, \"questionType\": 2, \"questionId\": \"1_GetExpectedCost\", \"learnToolsVersion\": \"0.3.4\", \"valueTowardsCompletion\": 0.0, \"failureMessage\": \"\", \"exceptionClass\": \"\", \"trace\": \"\", \"outcomeType\": 4}}, \"*\")"
      ],
      "text/plain": [
       "<IPython.core.display.Javascript object>"
      ]
     },
     "metadata": {},
     "output_type": "display_data"
    },
    {
     "data": {
      "text/markdown": [
       "<span style=\"color:#33cc99\">Solution:</span> \n",
       "```python\n",
       "\n",
       "def get_expected_cost(beds, baths):\n",
       "    value = 80000 + 30000 * beds + 10000 * baths\n",
       "    return value\n",
       "\n",
       "```"
      ],
      "text/plain": [
       "Solution: \n",
       "```python\n",
       "\n",
       "def get_expected_cost(beds, baths):\n",
       "    value = 80000 + 30000 * beds + 10000 * baths\n",
       "    return value\n",
       "\n",
       "```"
      ]
     },
     "metadata": {},
     "output_type": "display_data"
    }
   ],
   "source": [
    "# Uncomment to see a hint\n",
    "q1.hint()\n",
    "\n",
    "# Uncomment to view the solution\n",
    "q1.solution()"
   ]
  },
  {
   "cell_type": "markdown",
   "id": "16e15086",
   "metadata": {
    "papermill": {
     "duration": 0.006498,
     "end_time": "2022-10-30T15:43:42.141809",
     "exception": false,
     "start_time": "2022-10-30T15:43:42.135311",
     "status": "completed"
    },
    "tags": []
   },
   "source": [
    "# Question 2\n",
    "\n",
    "You are thinking about buying a home and want to get an idea of how much you will spend, based on the number of bedrooms and bathrooms.  You are trying to decide between four different options:\n",
    "- Option 1: house with two bedrooms and three bathrooms\n",
    "- Option 2: house with three bedrooms and two bathrooms\n",
    "- Option 3: house with three bedrooms and three bathrooms\n",
    "- Option 4: house with three bedrooms and four bathrooms\n",
    "\n",
    "Use the `get_expected_cost()` function you defined in question 1 to set `option_1`, `option_2`, `option_3`, and `option_4` to the expected cost of each option."
   ]
  },
  {
   "cell_type": "code",
   "execution_count": 4,
   "id": "5edbac2d",
   "metadata": {
    "execution": {
     "iopub.execute_input": "2022-10-30T15:43:42.158136Z",
     "iopub.status.busy": "2022-10-30T15:43:42.157727Z",
     "iopub.status.idle": "2022-10-30T15:43:42.169673Z",
     "shell.execute_reply": "2022-10-30T15:43:42.168452Z"
    },
    "papermill": {
     "duration": 0.023468,
     "end_time": "2022-10-30T15:43:42.171933",
     "exception": false,
     "start_time": "2022-10-30T15:43:42.148465",
     "status": "completed"
    },
    "tags": []
   },
   "outputs": [
    {
     "name": "stdout",
     "output_type": "stream",
     "text": [
      "170000\n",
      "190000\n",
      "200000\n",
      "210000\n"
     ]
    },
    {
     "data": {
      "application/javascript": [
       "parent.postMessage({\"jupyterEvent\": \"custom.exercise_interaction\", \"data\": {\"outcomeType\": 1, \"valueTowardsCompletion\": 0.2, \"interactionType\": 1, \"questionType\": 1, \"questionId\": \"2_RunGetExpectedCost\", \"learnToolsVersion\": \"0.3.4\", \"failureMessage\": \"\", \"exceptionClass\": \"\", \"trace\": \"\"}}, \"*\")"
      ],
      "text/plain": [
       "<IPython.core.display.Javascript object>"
      ]
     },
     "metadata": {},
     "output_type": "display_data"
    },
    {
     "data": {
      "text/markdown": [
       "<span style=\"color:#33cc33\">Correct</span>"
      ],
      "text/plain": [
       "Correct"
      ]
     },
     "metadata": {},
     "output_type": "display_data"
    }
   ],
   "source": [
    "# TODO: Use the get_expected_cost function to fill in each value\n",
    "option_one = get_expected_cost(2,3)\n",
    "option_two = get_expected_cost(3,2)\n",
    "option_three = get_expected_cost(3,3)\n",
    "option_four = get_expected_cost(3,4)\n",
    "\n",
    "print(option_one)\n",
    "print(option_two)\n",
    "print(option_three)\n",
    "print(option_four)\n",
    "\n",
    "# Check your answer\n",
    "q2.check()"
   ]
  },
  {
   "cell_type": "code",
   "execution_count": 5,
   "id": "b9d5fb6d",
   "metadata": {
    "execution": {
     "iopub.execute_input": "2022-10-30T15:43:42.188069Z",
     "iopub.status.busy": "2022-10-30T15:43:42.187139Z",
     "iopub.status.idle": "2022-10-30T15:43:42.192268Z",
     "shell.execute_reply": "2022-10-30T15:43:42.191404Z"
    },
    "papermill": {
     "duration": 0.01541,
     "end_time": "2022-10-30T15:43:42.194401",
     "exception": false,
     "start_time": "2022-10-30T15:43:42.178991",
     "status": "completed"
    },
    "tags": []
   },
   "outputs": [],
   "source": [
    "# Uncomment to see a hint\n",
    "#q2.hint()\n",
    "\n",
    "# Uncomment to view the solution\n",
    "#q2.solution()"
   ]
  },
  {
   "cell_type": "markdown",
   "id": "e2180e54",
   "metadata": {
    "papermill": {
     "duration": 0.006713,
     "end_time": "2022-10-30T15:43:42.208350",
     "exception": false,
     "start_time": "2022-10-30T15:43:42.201637",
     "status": "completed"
    },
    "tags": []
   },
   "source": [
    "# Question 3\n",
    "\n",
    "You're a home decorator, and you'd like to use Python to streamline some of your work.  Specifically, you're creating a tool that you intend to use to calculate the cost of painting a room.\n",
    "\n",
    "As a first step, define a function `get_cost()` that takes as input:\n",
    "- `sqft_walls` = total square feet of walls to be painted\n",
    "- `sqft_ceiling` = square feet of ceiling to be painted\n",
    "- `sqft_per_gallon` = number of square feet that you can cover with one gallon of paint\n",
    "- `cost_per_gallon` = cost (in dollars) of one gallon of paint\n",
    "\n",
    "It should return the cost (in dollars) of putting one coat of paint on all walls and the ceiling.  Assume you can buy the exact amount of paint that you need, so you can buy partial gallons (e.g., if you need 7.523 gallons, you can buy that exact amount, instead of needing to buy 8 gallons and waste some paint).  Do not round your answer."
   ]
  },
  {
   "cell_type": "code",
   "execution_count": 6,
   "id": "6d22d2da",
   "metadata": {
    "execution": {
     "iopub.execute_input": "2022-10-30T15:43:42.225093Z",
     "iopub.status.busy": "2022-10-30T15:43:42.224395Z",
     "iopub.status.idle": "2022-10-30T15:43:42.232476Z",
     "shell.execute_reply": "2022-10-30T15:43:42.231593Z"
    },
    "papermill": {
     "duration": 0.019195,
     "end_time": "2022-10-30T15:43:42.234528",
     "exception": false,
     "start_time": "2022-10-30T15:43:42.215333",
     "status": "completed"
    },
    "tags": []
   },
   "outputs": [
    {
     "data": {
      "application/javascript": [
       "parent.postMessage({\"jupyterEvent\": \"custom.exercise_interaction\", \"data\": {\"outcomeType\": 1, \"valueTowardsCompletion\": 0.2, \"interactionType\": 1, \"questionType\": 2, \"questionId\": \"3_GetCostPaint\", \"learnToolsVersion\": \"0.3.4\", \"failureMessage\": \"\", \"exceptionClass\": \"\", \"trace\": \"\"}}, \"*\")"
      ],
      "text/plain": [
       "<IPython.core.display.Javascript object>"
      ]
     },
     "metadata": {},
     "output_type": "display_data"
    },
    {
     "data": {
      "text/markdown": [
       "<span style=\"color:#33cc33\">Correct</span>"
      ],
      "text/plain": [
       "Correct"
      ]
     },
     "metadata": {},
     "output_type": "display_data"
    }
   ],
   "source": [
    "# TODO: Finish defining the function\n",
    "def get_cost(sqft_walls, sqft_ceiling, sqft_per_gallon, cost_per_gallon):\n",
    "    cost = cost_per_gallon/sqft_per_gallon*(sqft_walls+sqft_ceiling)\n",
    "    return cost\n",
    "\n",
    "# Check your answer\n",
    "q3.check()"
   ]
  },
  {
   "cell_type": "code",
   "execution_count": 7,
   "id": "0d40d9db",
   "metadata": {
    "execution": {
     "iopub.execute_input": "2022-10-30T15:43:42.251324Z",
     "iopub.status.busy": "2022-10-30T15:43:42.250554Z",
     "iopub.status.idle": "2022-10-30T15:43:42.254518Z",
     "shell.execute_reply": "2022-10-30T15:43:42.253719Z"
    },
    "papermill": {
     "duration": 0.014795,
     "end_time": "2022-10-30T15:43:42.256550",
     "exception": false,
     "start_time": "2022-10-30T15:43:42.241755",
     "status": "completed"
    },
    "tags": []
   },
   "outputs": [],
   "source": [
    "# Uncomment to see a hint\n",
    "#q3.hint()\n",
    "\n",
    "# Uncomment to view the solution\n",
    "#q3.solution()"
   ]
  },
  {
   "cell_type": "markdown",
   "id": "ab538f84",
   "metadata": {
    "papermill": {
     "duration": 0.006885,
     "end_time": "2022-10-30T15:43:42.270803",
     "exception": false,
     "start_time": "2022-10-30T15:43:42.263918",
     "status": "completed"
    },
    "tags": []
   },
   "source": [
    "# Question 4\n",
    "\n",
    "Use the `get_cost()` function you defined in Question 3 to calculate the cost of applying one coat of paint to a room with:\n",
    "- 432 square feet of walls, and\n",
    "- 144 square feet of ceiling.\n",
    "\n",
    "Assume that one gallon of paint covers 400 square feet and costs $15.  As in Question 3, assume you can buy partial gallons of paint.  Do not round your answer."
   ]
  },
  {
   "cell_type": "code",
   "execution_count": 8,
   "id": "0a069b97",
   "metadata": {
    "execution": {
     "iopub.execute_input": "2022-10-30T15:43:42.290888Z",
     "iopub.status.busy": "2022-10-30T15:43:42.290248Z",
     "iopub.status.idle": "2022-10-30T15:43:42.301844Z",
     "shell.execute_reply": "2022-10-30T15:43:42.300234Z"
    },
    "papermill": {
     "duration": 0.02567,
     "end_time": "2022-10-30T15:43:42.304653",
     "exception": false,
     "start_time": "2022-10-30T15:43:42.278983",
     "status": "completed"
    },
    "tags": []
   },
   "outputs": [
    {
     "data": {
      "application/javascript": [
       "parent.postMessage({\"jupyterEvent\": \"custom.exercise_interaction\", \"data\": {\"outcomeType\": 1, \"valueTowardsCompletion\": 0.2, \"interactionType\": 1, \"questionType\": 1, \"questionId\": \"4_GetCostPaintExample\", \"learnToolsVersion\": \"0.3.4\", \"failureMessage\": \"\", \"exceptionClass\": \"\", \"trace\": \"\"}}, \"*\")"
      ],
      "text/plain": [
       "<IPython.core.display.Javascript object>"
      ]
     },
     "metadata": {},
     "output_type": "display_data"
    },
    {
     "data": {
      "text/markdown": [
       "<span style=\"color:#33cc33\">Correct</span>"
      ],
      "text/plain": [
       "Correct"
      ]
     },
     "metadata": {},
     "output_type": "display_data"
    }
   ],
   "source": [
    "# TODO: Set the project_cost variable to the cost of the project\n",
    "project_cost = get_cost(432,144,400,15)\n",
    "# Check your answer\n",
    "q4.check()"
   ]
  },
  {
   "cell_type": "code",
   "execution_count": 9,
   "id": "42e52f33",
   "metadata": {
    "execution": {
     "iopub.execute_input": "2022-10-30T15:43:42.323432Z",
     "iopub.status.busy": "2022-10-30T15:43:42.322626Z",
     "iopub.status.idle": "2022-10-30T15:43:42.327945Z",
     "shell.execute_reply": "2022-10-30T15:43:42.326861Z"
    },
    "papermill": {
     "duration": 0.017627,
     "end_time": "2022-10-30T15:43:42.330919",
     "exception": false,
     "start_time": "2022-10-30T15:43:42.313292",
     "status": "completed"
    },
    "tags": []
   },
   "outputs": [],
   "source": [
    "# Uncomment to see a hint\n",
    "#q4.hint()\n",
    "\n",
    "# Uncomment to view the solution\n",
    "#q4.solution()"
   ]
  },
  {
   "cell_type": "markdown",
   "id": "ebf8433c",
   "metadata": {
    "papermill": {
     "duration": 0.010126,
     "end_time": "2022-10-30T15:43:42.352250",
     "exception": false,
     "start_time": "2022-10-30T15:43:42.342124",
     "status": "completed"
    },
    "tags": []
   },
   "source": [
    "# 🌶️ Question 5\n",
    "\n",
    "Now say you can no longer buy fractions of a gallon.  (For instance, if you need 4.3 gallons to do a project, then you have to buy 5 gallons of paint.)\n",
    "\n",
    "With this new scenario, you will create a new function `get_actual_cost` that uses the same inputs and calculates the cost of your project.\n",
    "\n",
    "One function that you'll need to use to do this is `math.ceil()`.  We demonstrate usage of this function in the code cell below.  It takes as a number as input and rounds the number up to the nearest integer.  \n",
    "\n",
    "Run the next code cell to test this function for yourself.  Feel free to change the value of `test_value` and make sure `math.ceil()` returns the number you expect."
   ]
  },
  {
   "cell_type": "code",
   "execution_count": 10,
   "id": "b87077af",
   "metadata": {
    "execution": {
     "iopub.execute_input": "2022-10-30T15:43:42.369467Z",
     "iopub.status.busy": "2022-10-30T15:43:42.369002Z",
     "iopub.status.idle": "2022-10-30T15:43:42.374827Z",
     "shell.execute_reply": "2022-10-30T15:43:42.373599Z"
    },
    "papermill": {
     "duration": 0.018723,
     "end_time": "2022-10-30T15:43:42.378782",
     "exception": false,
     "start_time": "2022-10-30T15:43:42.360059",
     "status": "completed"
    },
    "tags": []
   },
   "outputs": [
    {
     "name": "stdout",
     "output_type": "stream",
     "text": [
      "3\n"
     ]
    }
   ],
   "source": [
    "test_value = 2.17\n",
    "\n",
    "rounded_value = math.ceil(test_value)\n",
    "print(rounded_value)"
   ]
  },
  {
   "cell_type": "markdown",
   "id": "6698a81e",
   "metadata": {
    "papermill": {
     "duration": 0.008083,
     "end_time": "2022-10-30T15:43:42.395607",
     "exception": false,
     "start_time": "2022-10-30T15:43:42.387524",
     "status": "completed"
    },
    "tags": []
   },
   "source": [
    "Use the next code cell to define the function `get_actual_cost()`.  You'll need to use the `math.ceil()` function to do this.\n",
    "\n",
    "When answering this question, note that it's completely valid to define a function that makes use of another function.  For instance, we can define a function `round_up_and_divide_by_three` that makes use of the `math.ceil` function:\n",
    "```\n",
    "def round_up_and_divide_by_three(num):\n",
    "    new_value = math.ceil(num)\n",
    "    final_value = new_value / 3\n",
    "    return final_value\n",
    "```"
   ]
  },
  {
   "cell_type": "code",
   "execution_count": 11,
   "id": "2585b6fd",
   "metadata": {
    "execution": {
     "iopub.execute_input": "2022-10-30T15:43:42.412642Z",
     "iopub.status.busy": "2022-10-30T15:43:42.412205Z",
     "iopub.status.idle": "2022-10-30T15:43:42.421440Z",
     "shell.execute_reply": "2022-10-30T15:43:42.420591Z"
    },
    "papermill": {
     "duration": 0.020543,
     "end_time": "2022-10-30T15:43:42.423806",
     "exception": false,
     "start_time": "2022-10-30T15:43:42.403263",
     "status": "completed"
    },
    "tags": []
   },
   "outputs": [
    {
     "data": {
      "application/javascript": [
       "parent.postMessage({\"jupyterEvent\": \"custom.exercise_interaction\", \"data\": {\"outcomeType\": 1, \"valueTowardsCompletion\": 0.2, \"interactionType\": 1, \"questionType\": 2, \"questionId\": \"5_NoMoreFractions\", \"learnToolsVersion\": \"0.3.4\", \"failureMessage\": \"\", \"exceptionClass\": \"\", \"trace\": \"\"}}, \"*\")"
      ],
      "text/plain": [
       "<IPython.core.display.Javascript object>"
      ]
     },
     "metadata": {},
     "output_type": "display_data"
    },
    {
     "data": {
      "text/markdown": [
       "<span style=\"color:#33cc33\">Correct</span>"
      ],
      "text/plain": [
       "Correct"
      ]
     },
     "metadata": {},
     "output_type": "display_data"
    }
   ],
   "source": [
    "def get_actual_cost(sqft_walls, sqft_ceiling, sqft_per_gallon, cost_per_gallon):\n",
    "    get_paint = (sqft_walls+sqft_ceiling)/sqft_per_gallon\n",
    "    cost = math.ceil(get_paint)*cost_per_gallon\n",
    "    return cost\n",
    "\n",
    "# Check your answer\n",
    "q5.check()\n",
    "\n"
   ]
  },
  {
   "cell_type": "code",
   "execution_count": 12,
   "id": "6128bd42",
   "metadata": {
    "execution": {
     "iopub.execute_input": "2022-10-30T15:43:42.443142Z",
     "iopub.status.busy": "2022-10-30T15:43:42.442609Z",
     "iopub.status.idle": "2022-10-30T15:43:42.457610Z",
     "shell.execute_reply": "2022-10-30T15:43:42.456484Z"
    },
    "papermill": {
     "duration": 0.030801,
     "end_time": "2022-10-30T15:43:42.462507",
     "exception": false,
     "start_time": "2022-10-30T15:43:42.431706",
     "status": "completed"
    },
    "tags": []
   },
   "outputs": [
    {
     "data": {
      "application/javascript": [
       "parent.postMessage({\"jupyterEvent\": \"custom.exercise_interaction\", \"data\": {\"interactionType\": 2, \"questionType\": 2, \"questionId\": \"5_NoMoreFractions\", \"learnToolsVersion\": \"0.3.4\", \"valueTowardsCompletion\": 0.0, \"failureMessage\": \"\", \"exceptionClass\": \"\", \"trace\": \"\", \"outcomeType\": 4}}, \"*\")"
      ],
      "text/plain": [
       "<IPython.core.display.Javascript object>"
      ]
     },
     "metadata": {},
     "output_type": "display_data"
    },
    {
     "data": {
      "text/markdown": [
       "<span style=\"color:#3366cc\">Hint:</span> Begin with the `get_cost()` function as a starting point.  The only change you need to make is to add `math.ceil()` to round up the number of gallons that need to be purchased. Can you figure out where to add it to the function?"
      ],
      "text/plain": [
       "Hint: Begin with the `get_cost()` function as a starting point.  The only change you need to make is to add `math.ceil()` to round up the number of gallons that need to be purchased. Can you figure out where to add it to the function?"
      ]
     },
     "metadata": {},
     "output_type": "display_data"
    },
    {
     "data": {
      "application/javascript": [
       "parent.postMessage({\"jupyterEvent\": \"custom.exercise_interaction\", \"data\": {\"interactionType\": 3, \"questionType\": 2, \"questionId\": \"5_NoMoreFractions\", \"learnToolsVersion\": \"0.3.4\", \"valueTowardsCompletion\": 0.0, \"failureMessage\": \"\", \"exceptionClass\": \"\", \"trace\": \"\", \"outcomeType\": 4}}, \"*\")"
      ],
      "text/plain": [
       "<IPython.core.display.Javascript object>"
      ]
     },
     "metadata": {},
     "output_type": "display_data"
    },
    {
     "data": {
      "text/markdown": [
       "<span style=\"color:#33cc99\">Solution:</span> \n",
       "```python\n",
       "def get_actual_cost(sqft_walls, sqft_ceiling, sqft_per_gallon, cost_per_gallon):\n",
       "    total_sqft = sqft_walls + sqft_ceiling\n",
       "    gallons_needed = total_sqft / sqft_per_gallon\n",
       "    gallons_to_buy = math.ceil(gallons_needed)\n",
       "    cost = cost_per_gallon * gallons_to_buy\n",
       "    return cost\n",
       "\n",
       "```"
      ],
      "text/plain": [
       "Solution: \n",
       "```python\n",
       "def get_actual_cost(sqft_walls, sqft_ceiling, sqft_per_gallon, cost_per_gallon):\n",
       "    total_sqft = sqft_walls + sqft_ceiling\n",
       "    gallons_needed = total_sqft / sqft_per_gallon\n",
       "    gallons_to_buy = math.ceil(gallons_needed)\n",
       "    cost = cost_per_gallon * gallons_to_buy\n",
       "    return cost\n",
       "\n",
       "```"
      ]
     },
     "metadata": {},
     "output_type": "display_data"
    }
   ],
   "source": [
    "# Uncomment to see a hint\n",
    "q5.hint()\n",
    "\n",
    "# Uncomment to view the solution\n",
    "q5.solution()"
   ]
  },
  {
   "cell_type": "code",
   "execution_count": null,
   "id": "06c4e76a",
   "metadata": {
    "papermill": {
     "duration": 0.009236,
     "end_time": "2022-10-30T15:43:42.482891",
     "exception": false,
     "start_time": "2022-10-30T15:43:42.473655",
     "status": "completed"
    },
    "tags": []
   },
   "outputs": [],
   "source": []
  },
  {
   "cell_type": "markdown",
   "id": "92968c05",
   "metadata": {
    "papermill": {
     "duration": 0.008713,
     "end_time": "2022-10-30T15:43:42.500556",
     "exception": false,
     "start_time": "2022-10-30T15:43:42.491843",
     "status": "completed"
    },
    "tags": []
   },
   "source": [
    "Once your function is verified as correct, run the next code cell to calculate the updated cost of your project."
   ]
  },
  {
   "cell_type": "code",
   "execution_count": 13,
   "id": "0a44a6e0",
   "metadata": {
    "execution": {
     "iopub.execute_input": "2022-10-30T15:43:42.520626Z",
     "iopub.status.busy": "2022-10-30T15:43:42.519758Z",
     "iopub.status.idle": "2022-10-30T15:43:42.527956Z",
     "shell.execute_reply": "2022-10-30T15:43:42.526575Z"
    },
    "papermill": {
     "duration": 0.021036,
     "end_time": "2022-10-30T15:43:42.530352",
     "exception": false,
     "start_time": "2022-10-30T15:43:42.509316",
     "status": "completed"
    },
    "tags": []
   },
   "outputs": [
    {
     "data": {
      "text/plain": [
       "30"
      ]
     },
     "execution_count": 13,
     "metadata": {},
     "output_type": "execute_result"
    }
   ],
   "source": [
    "get_actual_cost(432, 144, 400, 15) "
   ]
  },
  {
   "cell_type": "markdown",
   "id": "39947252",
   "metadata": {
    "papermill": {
     "duration": 0.011083,
     "end_time": "2022-10-30T15:43:42.550147",
     "exception": false,
     "start_time": "2022-10-30T15:43:42.539064",
     "status": "completed"
    },
    "tags": []
   },
   "source": [
    "Say you're working with a slightly larger room.  Run the next code cell to calculate the cost of the project."
   ]
  },
  {
   "cell_type": "code",
   "execution_count": 14,
   "id": "1ea0426c",
   "metadata": {
    "execution": {
     "iopub.execute_input": "2022-10-30T15:43:42.569800Z",
     "iopub.status.busy": "2022-10-30T15:43:42.568633Z",
     "iopub.status.idle": "2022-10-30T15:43:42.575603Z",
     "shell.execute_reply": "2022-10-30T15:43:42.574432Z"
    },
    "papermill": {
     "duration": 0.018902,
     "end_time": "2022-10-30T15:43:42.577703",
     "exception": false,
     "start_time": "2022-10-30T15:43:42.558801",
     "status": "completed"
    },
    "tags": []
   },
   "outputs": [
    {
     "data": {
      "text/plain": [
       "45"
      ]
     },
     "execution_count": 14,
     "metadata": {},
     "output_type": "execute_result"
    }
   ],
   "source": [
    "get_actual_cost(594, 288, 400, 15) "
   ]
  },
  {
   "cell_type": "markdown",
   "id": "8c65e422",
   "metadata": {
    "papermill": {
     "duration": 0.008478,
     "end_time": "2022-10-30T15:43:42.594698",
     "exception": false,
     "start_time": "2022-10-30T15:43:42.586220",
     "status": "completed"
    },
    "tags": []
   },
   "source": [
    "# Keep going\n",
    "\n",
    "Continue to learn about **[data types](https://www.kaggle.com/alexisbcook/data-types)**."
   ]
  },
  {
   "cell_type": "markdown",
   "id": "291cb383",
   "metadata": {
    "papermill": {
     "duration": 0.008312,
     "end_time": "2022-10-30T15:43:42.611609",
     "exception": false,
     "start_time": "2022-10-30T15:43:42.603297",
     "status": "completed"
    },
    "tags": []
   },
   "source": [
    "---\n",
    "\n",
    "\n",
    "\n",
    "\n",
    "*Have questions or comments? Visit the [course discussion forum](https://www.kaggle.com/learn/intro-to-programming/discussion) to chat with other learners.*"
   ]
  }
 ],
 "metadata": {
  "kernelspec": {
   "display_name": "Python 3",
   "language": "python",
   "name": "python3"
  },
  "language_info": {
   "codemirror_mode": {
    "name": "ipython",
    "version": 3
   },
   "file_extension": ".py",
   "mimetype": "text/x-python",
   "name": "python",
   "nbconvert_exporter": "python",
   "pygments_lexer": "ipython3",
   "version": "3.7.12"
  },
  "papermill": {
   "default_parameters": {},
   "duration": 9.962699,
   "end_time": "2022-10-30T15:43:43.241957",
   "environment_variables": {},
   "exception": null,
   "input_path": "__notebook__.ipynb",
   "output_path": "__notebook__.ipynb",
   "parameters": {},
   "start_time": "2022-10-30T15:43:33.279258",
   "version": "2.3.4"
  }
 },
 "nbformat": 4,
 "nbformat_minor": 5
}
